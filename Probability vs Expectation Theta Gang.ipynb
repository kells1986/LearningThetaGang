{
 "cells": [
  {
   "cell_type": "code",
   "execution_count": 1,
   "metadata": {},
   "outputs": [],
   "source": [
    "import numpy as np\n",
    "import matplotlib.pyplot as plt"
   ]
  },
  {
   "cell_type": "code",
   "execution_count": 115,
   "metadata": {},
   "outputs": [],
   "source": [
    "spread_info = {\n",
    "    \"underlying_price\": 29.16,\n",
    "    \"time_to_strike\": 19, #days\n",
    "    \"expected_return\": 0.077, #This is using last 90 days performance\n",
    "    \"volatility\": 0.933, #90 days volatility\n",
    "    \"sell_put_strike\": 30.,\n",
    "    \"sell_put_premium\": 3.26,\n",
    "    \"buy_put_strike\": 25.,\n",
    "    \"buy_put_premium\": 0.65\n",
    "}\n"
   ]
  },
  {
   "cell_type": "markdown",
   "metadata": {},
   "source": [
    "## Black-Scholes-Merton Model\n",
    "\n",
    "From Chapter 14, Equation 14.3 of Options, Futures and Other Derivatives.\n",
    "\n",
    "This function gives the probability of a stock price landing in between a certain range after a certain number of days"
   ]
  },
  {
   "cell_type": "code",
   "execution_count": 117,
   "metadata": {},
   "outputs": [],
   "source": [
    "import scipy.stats"
   ]
  },
  {
   "cell_type": "code",
   "execution_count": 123,
   "metadata": {},
   "outputs": [],
   "source": [
    "def prob_of_range(stock_price, expected_return, volatility, lower_price, upper_price, time_in_days):\n",
    "    \n",
    "    dist_mean = np.log(stock_price) + (expected_return - volatility*volatility/2)*(time_in_days/365.25)\n",
    "    dist_sd = volatility * np.sqrt(time_in_days / 365.25)\n",
    "    \n",
    "    dist = scipy.stats.norm(dist_mean, dist_sd)\n",
    "\n",
    "    lower_log = np.log(lower_price)\n",
    "    upper_log = np.log(upper_price)\n",
    "    \n",
    "    upper_prob = dist.cdf(upper_log)\n",
    "    lower_prob = dist.cdf(lower_log)\n",
    "    \n",
    "    prob =  upper_prob - lower_prob\n",
    "    \n",
    "    return prob"
   ]
  },
  {
   "cell_type": "markdown",
   "metadata": {},
   "source": [
    "For instance, in my brokers' app it says my breakeven price is 27.20, and I have a 57% chance of profit. \n",
    "\n",
    "If my assumption is correct, I should get a similar number here by finding the probability that the  price of the underlying share is above 27.2 after 19 days."
   ]
  },
  {
   "cell_type": "code",
   "execution_count": 129,
   "metadata": {},
   "outputs": [
    {
     "data": {
      "text/plain": [
       "0.5902297259733299"
      ]
     },
     "execution_count": 129,
     "metadata": {},
     "output_type": "execute_result"
    }
   ],
   "source": [
    "prob_of_range(spread_info[\"underlying_price\"],\n",
    "              spread_info[\"expected_return\"], \n",
    "              spread_info[\"volatility\"], \n",
    "              27.2, \n",
    "              50, \n",
    "              spread_info[\"time_to_strike\"])"
   ]
  },
  {
   "cell_type": "markdown",
   "metadata": {},
   "source": [
    "This broadly lines up with what my broker shows me. \n",
    "\n",
    "The probability of the price being between my breakeven and infinity at strike is about 59%.\n",
    "\n",
    "The problem I have though, is does this mean that I have **positive expectation**?\n",
    "\n",
    "There might be a 59% chance that the option ends up about break even, but what if most of that probability is around \\$0.01 profit? Does the higher loss at lower probability offset that?"
   ]
  },
  {
   "cell_type": "markdown",
   "metadata": {},
   "source": [
    "First I'm going to look at the range \\\\$0-50, in $1 increments, and see what the probability is of the stock price ending in each range"
   ]
  },
  {
   "cell_type": "code",
   "execution_count": 132,
   "metadata": {},
   "outputs": [
    {
     "name": "stderr",
     "output_type": "stream",
     "text": [
      "/Users/jameskelly/anaconda/envs/options/lib/python3.7/site-packages/ipykernel_launcher.py:9: RuntimeWarning: divide by zero encountered in log\n",
      "  if __name__ == '__main__':\n"
     ]
    }
   ],
   "source": [
    "probs = []\n",
    "price = [0]\n",
    "for i in range(50):\n",
    "    p = prob_of_range(spread_info[\"underlying_price\"],\n",
    "                      spread_info[\"expected_return\"], \n",
    "                      spread_info[\"volatility\"],\n",
    "                    price[-1], \n",
    "                      price[-1]+1, \n",
    "                      spread_info[\"time_to_strike\"])\n",
    "    price.append(price[-1]+1)\n",
    "    probs.append(p)"
   ]
  },
  {
   "cell_type": "code",
   "execution_count": 133,
   "metadata": {},
   "outputs": [],
   "source": [
    "import matplotlib.pyplot as plt"
   ]
  },
  {
   "cell_type": "code",
   "execution_count": 134,
   "metadata": {},
   "outputs": [
    {
     "data": {
      "image/png": "[encoded data removed]",
      "text/plain": [
       "<Figure size 432x288 with 1 Axes>"
      ]
     },
     "metadata": {
      "needs_background": "light"
     },
     "output_type": "display_data"
    }
   ],
   "source": [
    "plt.figure()\n",
    "plt.plot(price[:-1], probs)\n",
    "plt.grid()\n",
    "plt.xlabel(\"Price at Strike\")\n",
    "plt.ylabel(\"Probability of Price\")\n",
    "plt.show()"
   ]
  },
  {
   "cell_type": "markdown",
   "metadata": {},
   "source": [
    "I have a put credit spread on this stock.\n",
    "\n",
    "Let's code a function to show the payoff of the PCS for various different strike prices"
   ]
  },
  {
   "cell_type": "code",
   "execution_count": 135,
   "metadata": {},
   "outputs": [],
   "source": [
    "def put_credit_spread_payoff(strike_price, sell_price, sell_premium, buy_price, buy_premium):\n",
    "    \n",
    "    sell_leg = strike_price - sell_price + sell_premium if strike_price < sell_price else sell_premium\n",
    "    buy_leg = buy_price - strike_price - buy_premium if strike_price < buy_price else -buy_premium\n",
    "    return sell_leg + buy_leg"
   ]
  },
  {
   "cell_type": "code",
   "execution_count": 136,
   "metadata": {},
   "outputs": [
    {
     "data": {
      "text/plain": [
       "3.3306690738754696e-16"
      ]
     },
     "execution_count": 136,
     "metadata": {},
     "output_type": "execute_result"
    }
   ],
   "source": [
    "put_credit_spread_payoff(27.39, sell_price, premium_received, buy_price, premium_spent)"
   ]
  },
  {
   "cell_type": "markdown",
   "metadata": {},
   "source": [
    "Now that I've done that I can loop over the same possible strike prices as I did previously, and calculate the payoff of my spread at that price."
   ]
  },
  {
   "cell_type": "code",
   "execution_count": 104,
   "metadata": {},
   "outputs": [],
   "source": [
    "payoff = []\n",
    "for k in range(50):\n",
    "    profit = put_credit_spread_payoff(k, sell_price, premium_received, buy_price, premium_spent)\n",
    "    payoff.append(profit)"
   ]
  },
  {
   "cell_type": "code",
   "execution_count": 138,
   "metadata": {},
   "outputs": [
    {
     "data": {
      "image/png": "[encoded data removed]",
      "text/plain": [
       "<Figure size 432x288 with 1 Axes>"
      ]
     },
     "metadata": {
      "needs_background": "light"
     },
     "output_type": "display_data"
    }
   ],
   "source": [
    "plt.figure()\n",
    "plt.plot(payoff)\n",
    "plt.grid()\n",
    "plt.xlabel(\"Price at Expiration\")\n",
    "plt.ylabel(\"Spread Payoff\")\n",
    "plt.show()"
   ]
  },
  {
   "cell_type": "markdown",
   "metadata": {},
   "source": [
    "Now I can figure out the expectation of my spread. \n",
    "\n",
    "This is the probability that the price lands in a certain range, multiplied by the payoff associated with that range.\n",
    "\n",
    "We then sum up (since we took 1 dollar steps) all of the expectations to see what the average expected outcome of this spread is"
   ]
  },
  {
   "cell_type": "code",
   "execution_count": 139,
   "metadata": {},
   "outputs": [],
   "source": [
    "expected = []\n",
    "for i in range(50):\n",
    "    e = payoff[i]*probs[i]\n",
    "    expected.append(e)"
   ]
  },
  {
   "cell_type": "code",
   "execution_count": 141,
   "metadata": {},
   "outputs": [
    {
     "data": {
      "image/png": "[encoded data removed]",
      "text/plain": [
       "<Figure size 432x288 with 1 Axes>"
      ]
     },
     "metadata": {
      "needs_background": "light"
     },
     "output_type": "display_data"
    }
   ],
   "source": [
    "plt.figure()\n",
    "plt.plot(expected)\n",
    "plt.grid()\n",
    "plt.xlabel(\"Price at Expiration\")\n",
    "plt.ylabel(\"Expected Return\")\n",
    "plt.show()"
   ]
  },
  {
   "cell_type": "code",
   "execution_count": 142,
   "metadata": {},
   "outputs": [],
   "source": [
    "expectation = np.sum(expected)"
   ]
  },
  {
   "cell_type": "markdown",
   "metadata": {},
   "source": [
    "The total expectation for this spread is:"
   ]
  },
  {
   "cell_type": "code",
   "execution_count": 143,
   "metadata": {},
   "outputs": [
    {
     "data": {
      "text/plain": [
       "0.3097558705004692"
      ]
     },
     "execution_count": 143,
     "metadata": {},
     "output_type": "execute_result"
    }
   ],
   "source": [
    "expectation"
   ]
  },
  {
   "cell_type": "markdown",
   "metadata": {},
   "source": [
    "This is great, I have a positive expectation!\n",
    "\n",
    "If I place this spread many times I will average \\$30.98 in profit per spread"
   ]
  },
  {
   "cell_type": "code",
   "execution_count": null,
   "metadata": {},
   "outputs": [],
   "source": []
  }
 ],
 "metadata": {
  "kernelspec": {
   "display_name": "Python 3",
   "language": "python",
   "name": "python3"
  },
  "language_info": {
   "codemirror_mode": {
    "name": "ipython",
    "version": 3
   },
   "file_extension": ".py",
   "mimetype": "text/x-python",
   "name": "python",
   "nbconvert_exporter": "python",
   "pygments_lexer": "ipython3",
   "version": "3.7.6"
  }
 },
 "nbformat": 4,
 "nbformat_minor": 4
}
